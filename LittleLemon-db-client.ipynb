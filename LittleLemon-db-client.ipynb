{
 "cells": [
  {
   "cell_type": "markdown",
   "id": "eb05df37-7a4b-4625-a208-4c21f93c3548",
   "metadata": {},
   "source": [
    "<h1>Little Lemon Client - Capstone Project</h1>"
   ]
  },
  {
   "cell_type": "markdown",
   "id": "c72918b9-ec55-418a-acd6-ac7ebbffd9f7",
   "metadata": {},
   "source": [
    "<h2>Create a connection with the database</h2>"
   ]
  },
  {
   "cell_type": "code",
   "execution_count": 1,
   "id": "ec6c060f-25d5-48b4-998e-6f90a18da4bf",
   "metadata": {},
   "outputs": [],
   "source": [
    "# !pip install mysql-connector-python"
   ]
  },
  {
   "cell_type": "code",
   "execution_count": 2,
   "id": "513357b6-83f4-4a27-8b51-864ff6ded556",
   "metadata": {},
   "outputs": [],
   "source": [
    "import mysql.connector as connector"
   ]
  },
  {
   "cell_type": "code",
   "execution_count": 10,
   "id": "0634f740-208d-407a-bb85-a5649666b79d",
   "metadata": {},
   "outputs": [],
   "source": [
    "connection = connector.connect(\n",
    "    user = \"courserauser\",\n",
    "    password = \"password\",\n",
    "    database = \"littlelemondb\"\n",
    ")"
   ]
  },
  {
   "cell_type": "markdown",
   "id": "611a774a-bc07-4708-9ae4-50aa63913dee",
   "metadata": {},
   "source": [
    "<h2>Test the Connection</h2>"
   ]
  },
  {
   "cell_type": "code",
   "execution_count": 4,
   "id": "9e9f3144-df89-4f92-9371-8163d16db2f8",
   "metadata": {},
   "outputs": [],
   "source": [
    "cursor = connection.cursor(buffered = True)"
   ]
  },
  {
   "cell_type": "code",
   "execution_count": 9,
   "id": "02c59a89-53bf-4f05-b022-78ab09bd030a",
   "metadata": {},
   "outputs": [
    {
     "name": "stdout",
     "output_type": "stream",
     "text": [
      "('bookings',)\n",
      "('customer',)\n",
      "('menu',)\n",
      "('menu_has_menu_item',)\n",
      "('menu_item',)\n",
      "('order_delivery_status',)\n",
      "('orders',)\n",
      "('ordersview',)\n",
      "('staff',)\n"
     ]
    }
   ],
   "source": [
    "show_tables_query = \"SHOW Tables;\"\n",
    "cursor.execute(show_tables_query)\n",
    "results = cursor.fetchall()\n",
    "\n",
    "for result in results:\n",
    "    print(result)"
   ]
  },
  {
   "cell_type": "markdown",
   "id": "43bfb17e-6003-4e59-bf3d-118d1150ee13",
   "metadata": {},
   "source": [
    "<h2>Use the Connection to Query Relevant Data</h2>"
   ]
  },
  {
   "cell_type": "code",
   "execution_count": 8,
   "id": "12e3e684-19c1-4b56-8b0b-a95a9502c105",
   "metadata": {},
   "outputs": [
    {
     "name": "stdout",
     "output_type": "stream",
     "text": [
      "('Marcos Romero', '3122548', 'macos@mail.com')\n",
      "('Vanessa McCarthy', '4125655', 'vanesa@mail.com')\n",
      "('Marcos Romero', '3122548', 'macos@mail.com')\n"
     ]
    }
   ],
   "source": [
    "customers_orders_greater60 = \"\"\"\n",
    "    SELECT C.full_name, C.contact_number, C.email\n",
    "        FROM Customer C\n",
    "        INNER JOIN Orders O ON C.customer_id = O.customer_id\n",
    "        WHERE O.total_cost > 60;\n",
    "\"\"\"\n",
    "\n",
    "cursor.execute(customers_orders_greater60)\n",
    "results = cursor.fetchall()\n",
    "\n",
    "for result in results:\n",
    "    print(result)"
   ]
  },
  {
   "cell_type": "code",
   "execution_count": null,
   "id": "f82fe430-7176-480d-aa3c-f274924fc09b",
   "metadata": {},
   "outputs": [],
   "source": []
  }
 ],
 "metadata": {
  "kernelspec": {
   "display_name": "Python 3 (ipykernel)",
   "language": "python",
   "name": "python3"
  },
  "language_info": {
   "codemirror_mode": {
    "name": "ipython",
    "version": 3
   },
   "file_extension": ".py",
   "mimetype": "text/x-python",
   "name": "python",
   "nbconvert_exporter": "python",
   "pygments_lexer": "ipython3",
   "version": "3.11.9"
  }
 },
 "nbformat": 4,
 "nbformat_minor": 5
}
